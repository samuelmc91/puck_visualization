{
 "metadata": {
  "language_info": {
   "codemirror_mode": {
    "name": "ipython",
    "version": 3
   },
   "file_extension": ".py",
   "mimetype": "text/x-python",
   "name": "python",
   "nbconvert_exporter": "python",
   "pygments_lexer": "ipython3",
   "version": "3.8.2"
  },
  "orig_nbformat": 2,
  "kernelspec": {
   "name": "python382jvsc74a57bd00adcc2737ebf6a4a119f135174df96668767fca1ef1112612db5ecadf2b6d608",
   "display_name": "Python 3.8.2 64-bit"
  },
  "metadata": {
   "interpreter": {
    "hash": "0adcc2737ebf6a4a119f135174df96668767fca1ef1112612db5ecadf2b6d608"
   }
  }
 },
 "nbformat": 4,
 "nbformat_minor": 2,
 "cells": [
  {
   "cell_type": "code",
   "execution_count": 18,
   "metadata": {},
   "outputs": [],
   "source": [
    "import os\n",
    "\n",
    "root = os.getcwd()\n",
    "\n",
    "training_dir = os.path.join(root, 'train')\n",
    "testing_dir = os.path.join(root, 'test')\n",
    "\n",
    "categories = ['Straight', 'Tilted', 'Empty']\n",
    "for category in categories:\n",
    "    # os.system('mkdir -p ' + category)\n",
    "    inner_train_dir = os.path.join(training_dir, category)\n",
    "    new_path = os.path.join(root, category)\n",
    "    for image in os.listdir(inner_train_dir):\n",
    "        image_path = os.path.join(inner_train_dir, image)\n",
    "        os.system('mv ' + image_path + ' ' + new_path)\n",
    "    inner_testing_dir = os.path.join(testing_dir, category)\n",
    "    for image in os.listdir(inner_testing_dir):\n",
    "        image_path = os.path.join(inner_testing_dir, image)\n",
    "        os.system('mv ' + image_path + ' ' + new_path)"
   ]
  },
  {
   "cell_type": "code",
   "execution_count": 19,
   "metadata": {},
   "outputs": [],
   "source": [
    "straight_dir = os.path.join(root, categories[0])\n",
    "tilted_dir = os.path.join(root, categories[1])\n",
    "empty_dir = os.path.join(root, categories[2])\n",
    "\n",
    "straight_images = [os.path.join(straight_dir, f) for f in os.listdir(straight_dir)]\n",
    "tilted_images = [os.path.join(tilted_dir, f) for f in os.listdir(tilted_dir)]\n",
    "empty_images = [os.path.join(empty_dir, f) for f in os.listdir(empty_dir)]"
   ]
  },
  {
   "cell_type": "code",
   "execution_count": 15,
   "metadata": {},
   "outputs": [],
   "source": [
    "def even_split():\n",
    "    for i in range(len(tilted_image)):\n",
    "        os.system('mv ' + straight_images[i] + ' ' + os.path.join(training_dir, 'Straight'))\n",
    "        os.system('mv ' + tilted_images[i] + ' ' + os.path.join(training_dir, 'Tilted'))\n",
    "        os.system('mv ' + empty_images[i] + ' ' + os.path.join(training_dir, 'Empty'))\n",
    "    for category in categories:\n",
    "        inner_train_dir = os.path.join(training_dir, category)\n",
    "        inner_testing_dir = os.path.join(testing_dir, category)\n",
    "        image_paths = [os.path.join(inner_train_dir, image) for image in os.listdir(inner_train_dir)]\n",
    "        test_images = int(len(image_paths) * .25)\n",
    "        for i in range(test_images):\n",
    "            os.system('mv {} {}'.format(image_paths[i], inner_testing_dir))"
   ]
  },
  {
   "cell_type": "code",
   "execution_count": 16,
   "metadata": {},
   "outputs": [],
   "source": [
    "def max_limit(limit):\n",
    "    for i in range(limit):\n",
    "        if len(os.listdir(straight_dir)) != 0:\n",
    "            os.system('mv ' + straight_images[i] + ' ' + os.path.join(training_dir, 'Straight'))\n",
    "        if len(os.listdir(tilted_dir)) != 0:\n",
    "            os.system('mv ' + tilted_images[i] + ' ' + os.path.join(training_dir, 'Tilted'))\n",
    "        if len(os.listdir(empty_dir)) != 0:\n",
    "            os.system('mv ' + empty_images[i] + ' ' + os.path.join(training_dir, 'Empty'))\n",
    "    for category in categories:\n",
    "        inner_train_dir = os.path.join(training_dir, category)\n",
    "        inner_testing_dir = os.path.join(testing_dir, category)\n",
    "        image_paths = [os.path.join(inner_train_dir, image) for image in os.listdir(inner_train_dir)]\n",
    "        test_images = int(len(image_paths) * .25)\n",
    "        for i in range(test_images):\n",
    "            os.system('mv {} {}'.format(image_paths[i], inner_testing_dir))"
   ]
  }
 ]
}